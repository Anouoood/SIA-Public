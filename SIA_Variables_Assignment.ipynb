{
 "cells": [
  {
   "cell_type": "markdown",
   "id": "48eb123e",
   "metadata": {},
   "source": [
    "Before you turn this problem in, make sure everything runs as expected. First, **restart the kernel** (in the menubar, select Kernel$\\rightarrow$Restart) and then **run all cells** (in the menubar, select Cell$\\rightarrow$Run All).\n",
    "\n",
    "Make sure you fill in any place that says `YOUR CODE HERE` or \"YOUR ANSWER HERE\", as well as your name and collaborators below:"
   ]
  },
  {
   "cell_type": "code",
   "execution_count": 1,
   "id": "4dae1e3a",
   "metadata": {},
   "outputs": [],
   "source": [
    "NAME = \"\"\n",
    "COLLABORATORS = \"\""
   ]
  },
  {
   "cell_type": "markdown",
   "id": "2592848b",
   "metadata": {},
   "source": [
    "# General Instructions\n",
    "1 - Start by downloading this jupyter notebook to your local machine\n",
    "\n",
    "2 - Open a tab in your browser and type https://colab.research.google.com/\n",
    "\n",
    "3 - This will open a small window. Choose the last option on the upper menu, \"Upload\". Then choose the jupyter notebook you have saved in step 1\n",
    "\n",
    "4 - You can start working on your assignment by answering the questions in the corresponding cells.\n",
    "\n",
    "5 - If you have any questions , please reach out to your instructor and TAs"
   ]
  },
  {
   "cell_type": "markdown",
   "id": "583e86e1",
   "metadata": {},
   "source": [
    "# Statistics- Variables Assignment\n",
    "# Introduction to Variables Location Based Assignment\n",
    "\n",
    "This assignment is a location based-assignment that will require you to interact with the city around in you in a new way. The objective is to measure a variable in this location. You will identify a measurable variable in the city. Next, you will complete the data collection, calculate descriptive statistics on the data, and create relevant data visualizations. You will also have a chance to apply your knowledge of probability and simulation to solve a problem.\n",
    "This is an individual assignment. Everything you submit should be your own words and reflect your own understanding of the material.\n",
    "\n",
    "**NOTES:**\n",
    "\n",
    "Anything marked as optional will only be scored if it is completed correctly. You must upload two files:\n",
    "* **Primary Resource**: A PDF of your entire assignment. Run all cells before converting the notebook to a PDF, and double check to make sure that the PDF is complete with all sections visible. Email attachments will not be accepted. If you’re having difficulty converting your notebook to a PDF, try the tips available [here](https://docs.google.com/document/d/15dX89FOEoVEPuUNhY3PDloJ2qmQ63RQ_5l51zMEAlYQ/edit?usp=sharing)\n",
    "\n",
    "* **Secondary Resource**: A zipped folder containing the .ipynb file and your original photo files.\n",
    "\n"
   ]
  },
  {
   "cell_type": "markdown",
   "id": "c97ca29a",
   "metadata": {},
   "source": [
    "## PART 1: VARIABLE SELECTION [#variables]\n",
    "\n",
    "Select a neighborhood within a 10 minute walk of where you live. Visit this neighborhood and spend at least 30 minutes exploring the neighborhood to find your variable.\n",
    "\n",
    "Important notes:\n",
    "* The variable must be something that can be measured at different locations in the city. You need to make at least 10 different measurements of this variable, one for each location. The locations must be at least 100 meters away from each other.\n",
    "* You must be able to calculate the mean, median, mode, and standard deviation of the variable.\n",
    "* Be clear about your choice of locations to make the variable measurements.\n",
    "* Get creative! Try to choose an interesting and informative variable and make sure to justify why the variable you have chosen is interesting.\n",
    "\n",
    "\n",
    "**1. Define and operationalize your variable here.** \n",
    "\n",
    "Describe how you selected your variable. Specifically identify the type of variable, and whether you will be measuring a total, proportion, or average. Also identify the units it will be measured in and explain in detail how you will measure it. Make sure that your explanation is clear enough that another student would understand how to make the same measurement. Give the address of the 10 or more locations where you will conduct your measurement and provide an image that clearly identifies these locations on a map. (<150 words)\n",
    "\n"
   ]
  },
  {
   "cell_type": "markdown",
   "id": "7915858f",
   "metadata": {},
   "source": [
    "YOUR ANSWER HERE"
   ]
  },
  {
   "cell_type": "markdown",
   "id": "3fded49d",
   "metadata": {},
   "source": [
    "**2. Discuss variable relationships.**\n",
    "\n",
    "* **2.1** (<150 words)\n",
    "     - A. Describe a scenario in which your variable could be an independent variable. \n",
    "     - B. What could be the dependent variable(s)? \n",
    "     - C. What are some possible extraneous or confounding variables in this scenario? "
   ]
  },
  {
   "cell_type": "markdown",
   "id": "16d3ef67",
   "metadata": {},
   "source": [
    "YOUR ANSWER HERE"
   ]
  },
  {
   "cell_type": "markdown",
   "id": "e357fad4",
   "metadata": {},
   "source": [
    "* **2.2** (< 150 words)\n",
    "    * A. Describe a scenario in which your variable could be a dependent variable. \n",
    "    * B. What could be the independent variable(s)? \n",
    "    * C. What are some possible extraneous or confounding variables in this scenario? "
   ]
  },
  {
   "cell_type": "markdown",
   "id": "6da97425",
   "metadata": {},
   "source": [
    "YOUR ANSWER HERE"
   ]
  },
  {
   "cell_type": "markdown",
   "id": "213fc12a",
   "metadata": {},
   "source": [
    "## PART 2: MEASUREMENT [#variables]\n",
    "\n",
    "**Important note:** *if there is any reason to believe that you did not authentically complete the location based portion of this assignment, you risk receiving low scores in all your grades on LOs, and being referred to the administration. Please follow the instructions here carefully and include the original photo files in the zip folder along with the ipynb.*\n",
    "\n",
    "1. It’s time to collect your data! Take some photos to document your experience. Include at least two photos of your variable collection process. At least one photo should include your face and the variable you are counting.\n",
    "\n",
    "Follow the instructions in this [link](https://docs.google.com/document/d/1OTLUMXG8NWzJkgZ5MtpjHpB45gC1IAzyofaC5_-WwPg/edit?usp=sharing\\) to upload your pictures to the jupyter notebook:\n",
    "\n"
   ]
  },
  {
   "cell_type": "code",
   "execution_count": null,
   "id": "b49c79b3",
   "metadata": {},
   "outputs": [],
   "source": [
    "# YOUR CODE HERE\n",
    "raise NotImplementedError()"
   ]
  },
  {
   "cell_type": "code",
   "execution_count": null,
   "id": "9c52b6b3",
   "metadata": {},
   "outputs": [],
   "source": [
    "# YOUR CODE HERE\n",
    "raise NotImplementedError()"
   ]
  },
  {
   "cell_type": "markdown",
   "id": "457ab282",
   "metadata": {},
   "source": [
    "## PART 3: ANALYSIS [#algorithms, #descriptivestats]\n",
    "\n",
    "1. Analyze the data in Python [#algorithms]:\n",
    "    - **1.1** Use any method to import your collected data into Python. You can simply type the data directly into a Python list or numpy array. Or, you can put the data in a Google sheet, export to a .cvs file, and import into Python. Print your data in the cell below.\n",
    "   "
   ]
  },
  {
   "cell_type": "code",
   "execution_count": null,
   "id": "692191f3",
   "metadata": {},
   "outputs": [],
   "source": [
    "# YOUR CODE HERE\n",
    "raise NotImplementedError()"
   ]
  },
  {
   "cell_type": "markdown",
   "id": "98ddc99f",
   "metadata": {},
   "source": [
    " * **1.2** Using Python, calculate the mean, median, mode, range, and standard deviation of your variable. Print these values. If you use a library function, you need to explain how it works with detailed comments. Do not blindly use library functions! There are several ways to calculate the descriptive statistics, and you do not have to use functions.\n",
    "\n",
    "**Note**: Round your final answers up to 2 decimals."
   ]
  },
  {
   "cell_type": "code",
   "execution_count": 5,
   "id": "39b90249",
   "metadata": {},
   "outputs": [],
   "source": [
    "def mean(my_data):\n",
    "    \"\"\"\n",
    "    calculates the mean of your data\n",
    "    \n",
    "    Input:\n",
    "    my_data: an array of numbers (floats)\n",
    "    \n",
    "    Output: a float that represents the mean of your data\n",
    "    \"\"\"\n",
    "    # YOUR CODE HERE\n",
    "    raise NotImplementedError()"
   ]
  },
  {
   "cell_type": "code",
   "execution_count": 6,
   "id": "fa62a5a1",
   "metadata": {},
   "outputs": [],
   "source": [
    "def median(my_data):\n",
    "    \"\"\"\n",
    "    calculates the median of your data\n",
    "    \n",
    "    Input:\n",
    "    my_data: an array of numbers (floats)\n",
    "    \n",
    "    Output: a float that represents the median of your data\n",
    "    \"\"\"\n",
    "    # YOUR CODE HERE\n",
    "    raise NotImplementedError()"
   ]
  },
  {
   "cell_type": "code",
   "execution_count": 7,
   "id": "93911cf8",
   "metadata": {},
   "outputs": [],
   "source": [
    "def mode(my_data):\n",
    "    \"\"\"\n",
    "    calculates the mode of your data\n",
    "    \n",
    "    Input:\n",
    "    my_data: an array of numbers (floats)\n",
    "    \n",
    "    Output: a flaot that represents the mode of your data\n",
    "    \"\"\"\n",
    "    # YOUR CODE HERE\n",
    "    raise NotImplementedError()"
   ]
  },
  {
   "cell_type": "code",
   "execution_count": 8,
   "id": "fdee0bb5",
   "metadata": {},
   "outputs": [],
   "source": [
    "def data_range(my_data):\n",
    "    \"\"\"\n",
    "    calculates the range of your data\n",
    "    \n",
    "    Input:\n",
    "    my_data: an array of numbers (floats)\n",
    "    \n",
    "    Output: a float that represents the range of your data\n",
    "    \"\"\"\n",
    "    # YOUR CODE HERE\n",
    "    raise NotImplementedError()"
   ]
  },
  {
   "cell_type": "code",
   "execution_count": 9,
   "id": "a27e0e88",
   "metadata": {},
   "outputs": [],
   "source": [
    "def standard_deviation(my_data):\n",
    "    \"\"\"\n",
    "    calculates the standard deviation of your data\n",
    "    \n",
    "    Input:\n",
    "    my_data: an array of numbers (floats)\n",
    "    \n",
    "    Output: a float that represents the standard deviation of your data\n",
    "    \"\"\"\n",
    "    # YOUR CODE HERE\n",
    "    raise NotImplementedError()"
   ]
  },
  {
   "cell_type": "code",
   "execution_count": 10,
   "id": "83e9b84d",
   "metadata": {},
   "outputs": [],
   "source": [
    "# Please ignore this cell. This cell is for us to implement the tests \n",
    "# to see if your code works properly. "
   ]
  },
  {
   "cell_type": "markdown",
   "id": "fc014048",
   "metadata": {},
   "source": [
    "* **1.3** Create a histogram for your data, properly formatting your figure."
   ]
  },
  {
   "cell_type": "code",
   "execution_count": null,
   "id": "14d8e8ac",
   "metadata": {},
   "outputs": [],
   "source": [
    "# YOUR CODE HERE\n",
    "raise NotImplementedError()"
   ]
  },
  {
   "cell_type": "markdown",
   "id": "8199529c",
   "metadata": {},
   "source": [
    "**2.** Interpret the descriptive stats: What can you say about the neighborhood based on these values? Is the distribution skewed? Is your visualization in agreement with the descriptive statistics? Explain. [#descriptivestats, #algorithms] (<200 words)"
   ]
  },
  {
   "cell_type": "markdown",
   "id": "712a6cd8",
   "metadata": {},
   "source": [
    "YOUR ANSWER HERE"
   ]
  },
  {
   "cell_type": "code",
   "execution_count": null,
   "id": "28ad5cdf",
   "metadata": {},
   "outputs": [],
   "source": []
  },
  {
   "cell_type": "markdown",
   "id": "bb8c212c",
   "metadata": {},
   "source": [
    "## [OPTIONAL] PART 4: ESTIMATION AND PROBABILITY CONSIDERATIONS [#probability, #algorithms, #visualizations]\n",
    "\n",
    "\n",
    "-- Before you actually measure the variable go to a cafe in the neighborhood produce estimate of your variable. Use a napkin at the cafe to begin your estimate. Your estimate should aim to involve at least 5 steps where you compute the intermediate values. You will have to describe each step clearly, show your work, state any assumptions you are making, and discuss whether your answer seems plausible (but it is not necessary to do so on the napkin).\n",
    "\n",
    "-- Take some photos to document this experience. You must include:\n",
    "    * A photo just of your “back of the napkin” estimate (it can and should be quite rough at this point). You will properly format the calculation later.\n",
    "    * A selfie in the cafe in which you constructed your estimate. Clearly show your face, your estimate, and some of the interior of the cafe.\n",
    "    * A selfie outside of the cafe showing your face and the exterior of the cafe, including the name. Bonus points if you are also holding your completed estimate in the photo too.\n",
    "\n",
    "-- Typeset your full estimation in the Python notebook. Here, be sure to clearly explain all steps, justify all assumptions, and comment on whether the answer seems plausible.\n",
    "-- Suppose something unfortunate happened: you took too many napkins for your estimate, so you decided to write all of your variable measurements on separate napkins, one napkin for each location. On your way back to the campus, the wind picked up and blew them all away! Luckily, you managed to collect all of the napkins, but now the data is totally randomly reordered, meaning that you have no idea which napkin corresponds to which location. Suppose that you tried to just guess randomly which napkin goes with which location. In other words, you randomly assign each napkin to a given location.\n",
    "What is the probability that you are unlucky, and sadly NONE of the napkins are matched to the correct location (you guessed all of them wrong)? Estimate this probability using a simulation. Be sure to interpret the result appropriately. See hints below.\n",
    "\n"
   ]
  },
  {
   "cell_type": "code",
   "execution_count": 15,
   "id": "b66747af",
   "metadata": {},
   "outputs": [],
   "source": [
    "def unlucky_probability(ordered_napkins):\n",
    "    \"\"\"\n",
    "    calculate the probability that all of your guesses are wrong\n",
    "    \n",
    "    input: A list of the integers in order where the first integer corresponds to the first location, \n",
    "    the seocnd to the second location...etc (see the hints below)\n",
    "    \n",
    "    output: A float that is rounded up to two decimals (e.g. output of 15.20 means that the probability\n",
    "    of guessing all of them wrong is 15.20%) \n",
    "    \n",
    "    Here is ann example:\n",
    "    input: [1, 2]. In this input, 1 refers to the first location and 2 refers to the second location.\n",
    "    After the unfortunate wind blew away your napkins, you collect them and you have to guess which one refers to\n",
    "    which location. So you might guess -> [2,1] which would be a wrong guess, or -> [1,2] which would be the right guess.\n",
    "    In this simple example, the output should be \"50\" since there is a 50% chance that you guess wrong.\n",
    "    \n",
    "    (Note that you should have at least 10 integers corresponding to 10 locations)\n",
    "     \"\"\"\n",
    "    # YOUR CODE HERE\n",
    "    raise NotImplementedError()"
   ]
  },
  {
   "cell_type": "markdown",
   "id": "31bbe65b",
   "metadata": {},
   "source": [
    "* **1.** What is the expected number of napkins that will be correctly matched to the corresponding location? Estimate this probability using a simulation and interpret the result appropriately."
   ]
  },
  {
   "cell_type": "code",
   "execution_count": null,
   "id": "d878b253",
   "metadata": {},
   "outputs": [],
   "source": [
    "# YOUR CODE HERE\n",
    "raise NotImplementedError()"
   ]
  },
  {
   "cell_type": "markdown",
   "id": "965089af",
   "metadata": {},
   "source": [
    "* **2.** Determine the probability distribution as a function of the number of correctly matched napkins and create a visualization."
   ]
  },
  {
   "cell_type": "code",
   "execution_count": null,
   "id": "5b1b2268",
   "metadata": {},
   "outputs": [],
   "source": [
    "# YOUR CODE HERE\n",
    "raise NotImplementedError()"
   ]
  },
  {
   "cell_type": "markdown",
   "id": "e239cf0e",
   "metadata": {},
   "source": [
    "* **3.** Interpret the distribution based on your previous results."
   ]
  },
  {
   "cell_type": "markdown",
   "id": "e90e0af1",
   "metadata": {},
   "source": [
    "YOUR ANSWER HERE"
   ]
  },
  {
   "cell_type": "markdown",
   "id": "21ac8d35",
   "metadata": {},
   "source": [
    "### PYTHON TIPS\n",
    "Part of the purpose of this assignment is to expose you to and give you practice in using tools for working with data in Python. The following may be useful.\n",
    "\n",
    "* Participating actively in the weekly structured study sessions will help prepare you to complete the Python portion of this assignment. The weekly session material can be found here.\n",
    "* Your peer tutors and professors are here to help! Make use of office hours for assistance.\n",
    "* For other resources to learn Numpy, you can read or watch any of the tutorials found online, such as https://docs.scipy.org/doc/numpy/user/quickstart.html. You do not need to learn everything about this library, just the basics of arrays and reading their entries.\n",
    "* To learn to plot the necessary figures, read as much of http://matplotlib.org/users/beginner.html as is necessary to perform the required tasks. Additionally, there is an enormous amount of freely available instructional material, with examples, that can be found online.\n",
    "* As a best practice, your graphics in Jupyter notebooks should be ‘inline.’ If your version does not do this automatically, include %matplotlib inline at the top of your script.\n",
    "* Reminder: no matter what, your code needs comments. Read this resource about the importance of comments and this one for further guidance."
   ]
  }
 ],
 "metadata": {
  "kernelspec": {
   "display_name": "Python 3",
   "language": "python",
   "name": "python3"
  },
  "language_info": {
   "codemirror_mode": {
    "name": "ipython",
    "version": 3
   },
   "file_extension": ".py",
   "mimetype": "text/x-python",
   "name": "python",
   "nbconvert_exporter": "python",
   "pygments_lexer": "ipython3",
   "version": "3.8.8"
  }
 },
 "nbformat": 4,
 "nbformat_minor": 5
}
