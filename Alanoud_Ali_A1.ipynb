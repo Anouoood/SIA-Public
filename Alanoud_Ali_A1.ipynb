{
  "nbformat": 4,
  "nbformat_minor": 0,
  "metadata": {
    "colab": {
      "provenance": [],
      "authorship_tag": "ABX9TyOqYADFvPsZSpBUxEx2YQ29",
      "include_colab_link": true
    },
    "kernelspec": {
      "name": "python3",
      "display_name": "Python 3"
    },
    "language_info": {
      "name": "python"
    }
  },
  "cells": [
    {
      "cell_type": "markdown",
      "metadata": {
        "id": "view-in-github",
        "colab_type": "text"
      },
      "source": [
        "<a href=\"https://colab.research.google.com/github/Anouoood/SIA-Public/blob/main/Alanoud_Ali_A1.ipynb\" target=\"_parent\"><img src=\"https://colab.research.google.com/assets/colab-badge.svg\" alt=\"Open In Colab\"/></a>"
      ]
    },
    {
      "cell_type": "code",
      "execution_count": 12,
      "metadata": {
        "colab": {
          "base_uri": "https://localhost:8080/"
        },
        "id": "KHUB8wf6AQ8p",
        "outputId": "63989600-5326-46db-8400-fd77a26aa121"
      },
      "outputs": [
        {
          "output_type": "stream",
          "name": "stdout",
          "text": [
            "Guest: Alanoud Ali, Email:Alanoud@Gmail.com, Phone:133-455-7860\n",
            "Reservation ID: R001, Guest: Alanoud Ali, Room: 101, Check-in: 2024-10-10, Check-out: 2024-10-15, Status: pending\n",
            "Reservation ID: R001, Guest: Alanoud Ali, Room: 101, Check-in: 2024-10-12, Check-out: 2024-10-17, Status: pending\n",
            "Reservation ID: R001, Guest: Alanoud Ali, Room: 101, Check-in: 2024-10-12, Check-out: 2024-10-17, Status: cancelled\n"
          ]
        }
      ],
      "source": [
        "from enum import Enum\n",
        "\n",
        "#enum for reservation status\n",
        "class ReservationStatus(Enum):\n",
        "  CONFIRMED = \"confirmed\"\n",
        "  CANCELLED = \"cancelled\"\n",
        "  PENDING = \"pending\"\n",
        "\n",
        "\n",
        "class Person:\n",
        "  def __init__(self, first, last):\n",
        "    \"\"\"initializes a person object with fist and last name\"\"\"\n",
        "    self.firstname = first\n",
        "    self.lastname = last\n",
        "\n",
        "  def display_name(self):\n",
        "    \"\"\"returns the full nane of the person\"\"\"\n",
        "    return f\"{self.firstname} {self.lastname}\"\n",
        "\n",
        "class Guest(Person):\n",
        "  def __init__(self, first, last, email, phone):\n",
        "    \"\"\"initializes a guest object, extending a person with additional attributes\"\"\"\n",
        "    super().__init__(first, last) #call to supper class constructor\n",
        "    self.email = email  #guest email address\n",
        "    self.phone = phone  #guest phone number\n",
        "\n",
        "  def display_details(self):\n",
        "    \"\"\"retursn a formated string with guest details\"\"\"\n",
        "    return f\"Guest: {self.display_name()}, Email:{self.email}, Phone:{self.phone}\"\n",
        "\n",
        "class Room:\n",
        "  def __init__(self, room_number, room_type, price_per_night, avaliability=True):\n",
        "    \"\"\"initializes a room object with details about the room\"\"\"\n",
        "    self.room_number = room_number #unique room number\n",
        "    self.room_type = room_type #type of room (single, double)\n",
        "    self.price_per_night = price_per_night\n",
        "    self.avaliability = avaliability #room avaliability status\n",
        "\n",
        "  def check_avaliability(self):\n",
        "    \"\"\"returns wether the room is avaliable.\"\"\"\n",
        "    return self.avaliability\n",
        "\n",
        "  def check_avaliability(self):\n",
        "    \"\"\"returns wether the room is avaliable.\"\"\"\n",
        "    return self.avaliability\n",
        "\n",
        "class Reservation:\n",
        "   def __init__(self, reservation_id, guest, room, check_in_date, check_out_date, status=ReservationStatus.PENDING):\n",
        "        \"\"\"Initializes the Reservation object with the reservation details.\"\"\"\n",
        "        self.reservation_id = reservation_id      # Unique identifier for the reservation\n",
        "        self.guest = guest                        # Guest object associated with the reservation\n",
        "        self.room = room                          # Room object associated with the reservation\n",
        "        self.check_in_date = check_in_date        # Check-in date\n",
        "        self.check_out_date = check_out_date      # Check-out date\n",
        "        self.status = status                       # Reservation status\n",
        "\n",
        "   def modify_reservation(self, new_check_in, new_check_out):\n",
        "        \"\"\"Modifies the reservation with new check-in and check-out dates.\"\"\"\n",
        "        self.check_in_date = new_check_in\n",
        "        self.check_out_date = new_check_out\n",
        "        # Additional logic to handle room availability can be added here\n",
        "\n",
        "   def cancel_reservation(self):\n",
        "        \"\"\"Cancels the reservation by updating the status.\"\"\"\n",
        "        self.status = ReservationStatus.CANCELLED\n",
        "\n",
        "   def display_details(self):\n",
        "        \"\"\"Returns a formatted string with reservation details.\"\"\"\n",
        "        return (f\"Reservation ID: {self.reservation_id}, Guest: {self.guest.display_name()}, \"\n",
        "                f\"Room: {self.room.room_number}, Check-in: {self.check_in_date}, \"\n",
        "                f\"Check-out: {self.check_out_date}, Status: {self.status.value}\")\n",
        "\n",
        "# Example usage\n",
        "guest1 = Guest(\"Alanoud\", \"Ali\", \"Alanoud@Gmail.com\", \"133-455-7860\")\n",
        "room1 = Room(\"101\", \"Deluxe\", 150.00)\n",
        "reservation1 = Reservation(\"R001\", guest1, room1, \"2024-10-10\", \"2024-10-15\")\n",
        "\n",
        "# Displaying guest details\n",
        "print(guest1.display_details())  # Output: Guest: Alanoud Ali, Email: Alanoud@Gmail.com, Phone: 133-455-7860\n",
        "\n",
        "# Displaying reservation details\n",
        "print(reservation1.display_details())  # Output: Reservation details\n",
        "\n",
        "# Modifying the reservation\n",
        "reservation1.modify_reservation(\"2024-10-12\", \"2024-10-17\")\n",
        "print(reservation1.display_details())  # Output after modification\n",
        "\n",
        "# Canceling the reservation\n",
        "reservation1.cancel_reservation()\n",
        "print(reservation1.display_details())  # Output with updated status"
      ]
    }
  ]
}